{
 "cells": [
  {
   "cell_type": "markdown",
   "metadata": {},
   "source": [
    "# 第一关 了解python"
   ]
  },
  {
   "cell_type": "markdown",
   "metadata": {},
   "source": [
    "## 课程内容\n",
    "\n",
    "1. python简史\n",
    "\n",
    "2. python语言的特点\n",
    "\n",
    "3. 建立我的python运行环境\n",
    "\n",
    "4. 第一个python程序\n",
    "\n",
    "5. 闯关练习\n"
   ]
  },
  {
   "cell_type": "markdown",
   "metadata": {},
   "source": [
    "## 第一个python程序"
   ]
  },
  {
   "cell_type": "code",
   "execution_count": 16,
   "metadata": {},
   "outputs": [
    {
     "name": "stdout",
     "output_type": "stream",
     "text": [
      "hello world\n",
      "python was created by Guido van Rossum in 1989\n",
      "radius = 10.00, area = 314.159\n"
     ]
    }
   ],
   "source": [
    "# 打印一段文字\n",
    "print('hello world')\n",
    "print('python was created by Guido van Rossum in 1989')\n",
    "\n",
    "# 计算圆的面积\n",
    "pi = 3.1415926\n",
    "radius = 10\n",
    "area = pi * radius * radius\n",
    "\n",
    "# 指定格式输出\n",
    "print(\"radius = %.2f, area = %.3f\" % (radius, area))\n"
   ]
  },
  {
   "cell_type": "code",
   "execution_count": 17,
   "metadata": {},
   "outputs": [
    {
     "name": "stdout",
     "output_type": "stream",
     "text": [
      "2018-03-01 15:14:40.704525\n"
     ]
    }
   ],
   "source": [
    "# 导入时间库\n",
    "import datetime\n",
    "\n",
    "# 输出当前时间\n",
    "print(datetime.datetime.now())"
   ]
  },
  {
   "cell_type": "markdown",
   "metadata": {},
   "source": [
    "## 闯关作业\n",
    "\n",
    "1.打印出当前的python版本号. 要求输出样式  python version : xxxxxx\n",
    "\n",
    "提示：使用platform库，里面有python_version函数，可以返回相应的信息\n",
    "\n",
    "2.已知直角三角形的两条直角边分别是20和30，请计算三角形斜边的长度，打印出它的值\n",
    "\n",
    "提示：求平方根可以使用math库里面的sqrt方法\n"
   ]
  },
  {
   "cell_type": "code",
   "execution_count": 26,
   "metadata": {},
   "outputs": [
    {
     "data": {
      "text/plain": [
       "1.7320508075688772"
      ]
     },
     "execution_count": 26,
     "metadata": {},
     "output_type": "execute_result"
    }
   ],
   "source": [
    "# 我的答案\n"
   ]
  },
  {
   "cell_type": "code",
   "execution_count": null,
   "metadata": {},
   "outputs": [],
   "source": []
  }
 ],
 "metadata": {
  "kernelspec": {
   "display_name": "Python 3",
   "language": "python",
   "name": "python3"
  },
  "language_info": {
   "codemirror_mode": {
    "name": "ipython",
    "version": 3
   },
   "file_extension": ".py",
   "mimetype": "text/x-python",
   "name": "python",
   "nbconvert_exporter": "python",
   "pygments_lexer": "ipython3",
   "version": "3.6.3"
  }
 },
 "nbformat": 4,
 "nbformat_minor": 2
}
