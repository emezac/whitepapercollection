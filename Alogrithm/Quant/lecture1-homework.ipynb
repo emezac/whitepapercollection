{
 "cells": [
  {
   "cell_type": "markdown",
   "metadata": {},
   "source": [
    "## 闯关作业\n",
    "\n",
    "1.打印出当前的python版本号. 要求输出样式  python version : xxxxxx\n",
    "\n",
    "提示：使用platform库，里面有python_version函数，可以返回相应的信息\n"
   ]
  },
  {
   "cell_type": "code",
   "execution_count": 3,
   "metadata": {},
   "outputs": [
    {
     "name": "stdout",
     "output_type": "stream",
     "text": [
      "python version : 3.6.3\n"
     ]
    }
   ],
   "source": [
    "# import library\n",
    "import platform\n",
    "\n",
    "# get current python version\n",
    "version = platform.python_version()\n",
    "\n",
    "# print information \n",
    "print('python version : %s' % (version))\n"
   ]
  },
  {
   "cell_type": "markdown",
   "metadata": {},
   "source": [
    "2.已知直角三角形的两条直角边分别是20和30，请计算三角形斜边的长度，打印出它的值\n",
    "\n",
    "提示：求平方根可以使用math库里面的sqrt方法"
   ]
  },
  {
   "cell_type": "code",
   "execution_count": 4,
   "metadata": {},
   "outputs": [
    {
     "name": "stdout",
     "output_type": "stream",
     "text": [
      "long side is 36.06\n"
     ]
    }
   ],
   "source": [
    "# import library\n",
    "import math\n",
    "\n",
    "# assign value \n",
    "side1 = 20\n",
    "side2 = 30\n",
    "\n",
    "# calculate\n",
    "side_long = math.sqrt(side1 * side1 + side2 * side2)\n",
    "\n",
    "print(\"long side is %.2f\" % (side_long))"
   ]
  },
  {
   "cell_type": "code",
   "execution_count": null,
   "metadata": {},
   "outputs": [],
   "source": []
  }
 ],
 "metadata": {
  "kernelspec": {
   "display_name": "Python 3",
   "language": "python",
   "name": "python3"
  },
  "language_info": {
   "codemirror_mode": {
    "name": "ipython",
    "version": 3
   },
   "file_extension": ".py",
   "mimetype": "text/x-python",
   "name": "python",
   "nbconvert_exporter": "python",
   "pygments_lexer": "ipython3",
   "version": "3.6.3"
  }
 },
 "nbformat": 4,
 "nbformat_minor": 2
}
