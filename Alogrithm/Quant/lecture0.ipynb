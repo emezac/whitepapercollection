{
 "cells": [
  {
   "cell_type": "markdown",
   "metadata": {},
   "source": [
    "# python金融数据分析 课程介绍"
   ]
  },
  {
   "cell_type": "markdown",
   "metadata": {},
   "source": [
    "## 课程目标\n",
    "\n",
    "通过本课程的学习，你将获得\n",
    "\n",
    "1. python编程的基础知识\n",
    "\n",
    "2. 使用python进行金融数据分析的实战技能\n",
    "\n",
    "3. 大量有业务价值的分析案例和源代码\n"
   ]
  },
  {
   "cell_type": "markdown",
   "metadata": {},
   "source": [
    "## 适用人群\n",
    "\n",
    "本课程不需要您拥有计算机学位或者编程基础，但您需要拥有\n",
    "\n",
    "1. 对学习python编程有兴趣\n",
    "\n",
    "2. 喜欢自动动手解决问题\n",
    "\n",
    "3. 对金融数据分析感兴趣，有一定的基础就更好\n"
   ]
  },
  {
   "cell_type": "markdown",
   "metadata": {},
   "source": [
    "## 教学方法\n",
    "\n",
    "1. 视频教学，采用闯关模式，共20关，每关20分钟左右\n",
    "\n",
    "2. 每关讲解一个金融数据分析的实战案例，同时讲解相关的python基础知识\n",
    "\n",
    "3. 提供样例代码，供学习时练习\n",
    "\n",
    "4. 最后提供闯关作业，完成后即可通关\n"
   ]
  },
  {
   "cell_type": "markdown",
   "metadata": {},
   "source": [
    "## 教学计划"
   ]
  },
  {
   "cell_type": "markdown",
   "metadata": {},
   "source": [
    "+ 第1关 了解python\n",
    "+ 第2关 所见所得：金融数据图形展示"
   ]
  },
  {
   "cell_type": "code",
   "execution_count": null,
   "metadata": {},
   "outputs": [],
   "source": []
  }
 ],
 "metadata": {
  "kernelspec": {
   "display_name": "Python 3",
   "language": "python",
   "name": "python3"
  },
  "language_info": {
   "codemirror_mode": {
    "name": "ipython",
    "version": 3
   },
   "file_extension": ".py",
   "mimetype": "text/x-python",
   "name": "python",
   "nbconvert_exporter": "python",
   "pygments_lexer": "ipython3",
   "version": "3.6.3"
  }
 },
 "nbformat": 4,
 "nbformat_minor": 2
}
